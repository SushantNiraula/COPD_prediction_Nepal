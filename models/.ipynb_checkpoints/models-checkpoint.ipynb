{
 "cells": [
  {
   "cell_type": "code",
   "execution_count": 1,
   "id": "f1019145-7352-4879-a409-411f09adb72a",
   "metadata": {},
   "outputs": [],
   "source": [
    "import numpy\n",
    "import pickle\n",
    "import pandas as pd\n",
    "from sklearn.model_selection import train_test_split"
   ]
  },
  {
   "cell_type": "code",
   "execution_count": 2,
   "id": "1aaf273c-5a91-4a3e-847c-66d1ddc7b4dd",
   "metadata": {},
   "outputs": [],
   "source": [
    "pipe = pickle.load(open('pipe.pkl','rb'))"
   ]
  },
  {
   "cell_type": "code",
   "execution_count": 3,
   "id": "d1a1d4b7-37df-42c9-a6e0-dc77be1962ab",
   "metadata": {},
   "outputs": [],
   "source": [
    "from sklearn.tree import DecisionTreeClassifier\n",
    "from sklearn.linear_model import LogisticRegression\n",
    "from sklearn.ensemble import RandomForestClassifier\n",
    "from sklearn.metrics import accuracy_score, classification_report"
   ]
  },
  {
   "cell_type": "code",
   "execution_count": 4,
   "id": "f200b351-00f2-4e5c-bf1c-f9d5423455f3",
   "metadata": {},
   "outputs": [],
   "source": [
    "df=pd.read_csv('final_dataset_after_pipelining.csv')"
   ]
  },
  {
   "cell_type": "code",
   "execution_count": 5,
   "id": "0b94e549-54d4-4bec-99e0-33c0e7874a0a",
   "metadata": {},
   "outputs": [],
   "source": [
    "x=df.drop(columns=['COPD_Diagnosis'])\n",
    "y=df['COPD_Diagnosis']"
   ]
  },
  {
   "cell_type": "code",
   "execution_count": 6,
   "id": "f610750b-87fc-410a-bb80-309379d9b6e3",
   "metadata": {},
   "outputs": [
    {
     "data": {
      "text/plain": [
       "(1000, 10)"
      ]
     },
     "execution_count": 6,
     "metadata": {},
     "output_type": "execute_result"
    }
   ],
   "source": [
    "x.shape"
   ]
  },
  {
   "cell_type": "code",
   "execution_count": 7,
   "id": "c1ed7510-0dea-440d-a529-7960150c7a69",
   "metadata": {},
   "outputs": [],
   "source": [
    "X_transformed = pipe.transform(x)"
   ]
  },
  {
   "cell_type": "code",
   "execution_count": 8,
   "id": "316745f4-cef3-42fa-a14a-9b42cd3f48b8",
   "metadata": {},
   "outputs": [
    {
     "data": {
      "text/plain": [
       "(1000, 19)"
      ]
     },
     "execution_count": 8,
     "metadata": {},
     "output_type": "execute_result"
    }
   ],
   "source": [
    "X_transformed.shape"
   ]
  },
  {
   "cell_type": "code",
   "execution_count": 9,
   "id": "ca474927-870e-4864-b2ef-01cf2875c47a",
   "metadata": {},
   "outputs": [
    {
     "data": {
      "text/html": [
       "<div>\n",
       "<style scoped>\n",
       "    .dataframe tbody tr th:only-of-type {\n",
       "        vertical-align: middle;\n",
       "    }\n",
       "\n",
       "    .dataframe tbody tr th {\n",
       "        vertical-align: top;\n",
       "    }\n",
       "\n",
       "    .dataframe thead th {\n",
       "        text-align: right;\n",
       "    }\n",
       "</style>\n",
       "<table border=\"1\" class=\"dataframe\">\n",
       "  <thead>\n",
       "    <tr style=\"text-align: right;\">\n",
       "      <th></th>\n",
       "      <th>Smoking_Status</th>\n",
       "      <th>Biomass_Fuel_Exposure</th>\n",
       "      <th>Occupational_Exposure</th>\n",
       "      <th>Family_History_COPD</th>\n",
       "      <th>Location</th>\n",
       "      <th>Respiratory_Infections_Childhood</th>\n",
       "      <th>Age_Category</th>\n",
       "      <th>BMI_category</th>\n",
       "      <th>Air_Pollution_Level_category</th>\n",
       "      <th>Gender_encoded</th>\n",
       "    </tr>\n",
       "  </thead>\n",
       "  <tbody>\n",
       "    <tr>\n",
       "      <th>0</th>\n",
       "      <td>Former</td>\n",
       "      <td>1</td>\n",
       "      <td>1</td>\n",
       "      <td>1</td>\n",
       "      <td>Lalitpur</td>\n",
       "      <td>0</td>\n",
       "      <td>adult</td>\n",
       "      <td>overweight</td>\n",
       "      <td>Satisfactory</td>\n",
       "      <td>1</td>\n",
       "    </tr>\n",
       "    <tr>\n",
       "      <th>1</th>\n",
       "      <td>Never</td>\n",
       "      <td>1</td>\n",
       "      <td>0</td>\n",
       "      <td>0</td>\n",
       "      <td>Pokhara</td>\n",
       "      <td>1</td>\n",
       "      <td>old</td>\n",
       "      <td>obese</td>\n",
       "      <td>Moderate</td>\n",
       "      <td>1</td>\n",
       "    </tr>\n",
       "    <tr>\n",
       "      <th>2</th>\n",
       "      <td>Former</td>\n",
       "      <td>0</td>\n",
       "      <td>0</td>\n",
       "      <td>1</td>\n",
       "      <td>Pokhara</td>\n",
       "      <td>1</td>\n",
       "      <td>adult</td>\n",
       "      <td>overweight</td>\n",
       "      <td>Moderate</td>\n",
       "      <td>1</td>\n",
       "    </tr>\n",
       "    <tr>\n",
       "      <th>3</th>\n",
       "      <td>Current</td>\n",
       "      <td>1</td>\n",
       "      <td>0</td>\n",
       "      <td>0</td>\n",
       "      <td>Kathmandu</td>\n",
       "      <td>0</td>\n",
       "      <td>adult</td>\n",
       "      <td>overweight</td>\n",
       "      <td>Poor</td>\n",
       "      <td>0</td>\n",
       "    </tr>\n",
       "    <tr>\n",
       "      <th>4</th>\n",
       "      <td>Never</td>\n",
       "      <td>0</td>\n",
       "      <td>0</td>\n",
       "      <td>0</td>\n",
       "      <td>Pokhara</td>\n",
       "      <td>1</td>\n",
       "      <td>middle_aged</td>\n",
       "      <td>overweight</td>\n",
       "      <td>Moderate</td>\n",
       "      <td>1</td>\n",
       "    </tr>\n",
       "  </tbody>\n",
       "</table>\n",
       "</div>"
      ],
      "text/plain": [
       "  Smoking_Status  Biomass_Fuel_Exposure  Occupational_Exposure  \\\n",
       "0         Former                      1                      1   \n",
       "1          Never                      1                      0   \n",
       "2         Former                      0                      0   \n",
       "3        Current                      1                      0   \n",
       "4          Never                      0                      0   \n",
       "\n",
       "   Family_History_COPD   Location  Respiratory_Infections_Childhood  \\\n",
       "0                    1   Lalitpur                                 0   \n",
       "1                    0    Pokhara                                 1   \n",
       "2                    1    Pokhara                                 1   \n",
       "3                    0  Kathmandu                                 0   \n",
       "4                    0    Pokhara                                 1   \n",
       "\n",
       "  Age_Category BMI_category Air_Pollution_Level_category  Gender_encoded  \n",
       "0        adult   overweight                 Satisfactory               1  \n",
       "1          old        obese                     Moderate               1  \n",
       "2        adult   overweight                     Moderate               1  \n",
       "3        adult   overweight                         Poor               0  \n",
       "4  middle_aged   overweight                     Moderate               1  "
      ]
     },
     "execution_count": 9,
     "metadata": {},
     "output_type": "execute_result"
    }
   ],
   "source": [
    "x.head()"
   ]
  },
  {
   "cell_type": "code",
   "execution_count": 10,
   "id": "d6563458-e422-45aa-9a2a-702db0a9d1c0",
   "metadata": {},
   "outputs": [
    {
     "data": {
      "text/html": [
       "<div>\n",
       "<style scoped>\n",
       "    .dataframe tbody tr th:only-of-type {\n",
       "        vertical-align: middle;\n",
       "    }\n",
       "\n",
       "    .dataframe tbody tr th {\n",
       "        vertical-align: top;\n",
       "    }\n",
       "\n",
       "    .dataframe thead th {\n",
       "        text-align: right;\n",
       "    }\n",
       "</style>\n",
       "<table border=\"1\" class=\"dataframe\">\n",
       "  <thead>\n",
       "    <tr style=\"text-align: right;\">\n",
       "      <th></th>\n",
       "      <th>Smoking_Status</th>\n",
       "      <th>Biomass_Fuel_Exposure</th>\n",
       "      <th>Occupational_Exposure</th>\n",
       "      <th>Family_History_COPD</th>\n",
       "      <th>Location</th>\n",
       "      <th>Respiratory_Infections_Childhood</th>\n",
       "      <th>Age_Category</th>\n",
       "      <th>BMI_category</th>\n",
       "      <th>Air_Pollution_Level_category</th>\n",
       "      <th>Gender_encoded</th>\n",
       "    </tr>\n",
       "  </thead>\n",
       "  <tbody>\n",
       "    <tr>\n",
       "      <th>995</th>\n",
       "      <td>Current</td>\n",
       "      <td>1</td>\n",
       "      <td>1</td>\n",
       "      <td>1</td>\n",
       "      <td>Bhaktapur</td>\n",
       "      <td>0</td>\n",
       "      <td>old</td>\n",
       "      <td>normal</td>\n",
       "      <td>Moderate</td>\n",
       "      <td>1</td>\n",
       "    </tr>\n",
       "    <tr>\n",
       "      <th>996</th>\n",
       "      <td>Never</td>\n",
       "      <td>0</td>\n",
       "      <td>1</td>\n",
       "      <td>0</td>\n",
       "      <td>Bhaktapur</td>\n",
       "      <td>0</td>\n",
       "      <td>middle_aged</td>\n",
       "      <td>overweight</td>\n",
       "      <td>Moderate</td>\n",
       "      <td>1</td>\n",
       "    </tr>\n",
       "    <tr>\n",
       "      <th>997</th>\n",
       "      <td>Current</td>\n",
       "      <td>0</td>\n",
       "      <td>0</td>\n",
       "      <td>1</td>\n",
       "      <td>Butwal</td>\n",
       "      <td>1</td>\n",
       "      <td>adult</td>\n",
       "      <td>obese</td>\n",
       "      <td>Moderate</td>\n",
       "      <td>0</td>\n",
       "    </tr>\n",
       "    <tr>\n",
       "      <th>998</th>\n",
       "      <td>Former</td>\n",
       "      <td>0</td>\n",
       "      <td>1</td>\n",
       "      <td>1</td>\n",
       "      <td>Kathmandu</td>\n",
       "      <td>0</td>\n",
       "      <td>too_old</td>\n",
       "      <td>normal</td>\n",
       "      <td>Poor</td>\n",
       "      <td>0</td>\n",
       "    </tr>\n",
       "    <tr>\n",
       "      <th>999</th>\n",
       "      <td>Former</td>\n",
       "      <td>0</td>\n",
       "      <td>0</td>\n",
       "      <td>0</td>\n",
       "      <td>Kathmandu</td>\n",
       "      <td>0</td>\n",
       "      <td>adult</td>\n",
       "      <td>overweight</td>\n",
       "      <td>Moderate</td>\n",
       "      <td>0</td>\n",
       "    </tr>\n",
       "  </tbody>\n",
       "</table>\n",
       "</div>"
      ],
      "text/plain": [
       "    Smoking_Status  Biomass_Fuel_Exposure  Occupational_Exposure  \\\n",
       "995        Current                      1                      1   \n",
       "996          Never                      0                      1   \n",
       "997        Current                      0                      0   \n",
       "998         Former                      0                      1   \n",
       "999         Former                      0                      0   \n",
       "\n",
       "     Family_History_COPD   Location  Respiratory_Infections_Childhood  \\\n",
       "995                    1  Bhaktapur                                 0   \n",
       "996                    0  Bhaktapur                                 0   \n",
       "997                    1     Butwal                                 1   \n",
       "998                    1  Kathmandu                                 0   \n",
       "999                    0  Kathmandu                                 0   \n",
       "\n",
       "    Age_Category BMI_category Air_Pollution_Level_category  Gender_encoded  \n",
       "995          old       normal                     Moderate               1  \n",
       "996  middle_aged   overweight                     Moderate               1  \n",
       "997        adult        obese                     Moderate               0  \n",
       "998      too_old       normal                         Poor               0  \n",
       "999        adult   overweight                     Moderate               0  "
      ]
     },
     "execution_count": 10,
     "metadata": {},
     "output_type": "execute_result"
    }
   ],
   "source": [
    "x.tail()"
   ]
  },
  {
   "cell_type": "code",
   "execution_count": 11,
   "id": "6e6ea262-8906-441a-948f-452151978c89",
   "metadata": {},
   "outputs": [
    {
     "data": {
      "text/plain": [
       "array([[1., 1., 2., 1., 0., 0., 0., 0., 0., 0., 0., 1., 0., 0., 1., 1.,\n",
       "        1., 0., 1.],\n",
       "       [0., 3., 3., 2., 0., 0., 0., 0., 0., 0., 0., 0., 0., 1., 1., 0.,\n",
       "        0., 1., 1.],\n",
       "       [1., 1., 2., 2., 0., 0., 0., 0., 0., 0., 0., 0., 0., 1., 0., 0.,\n",
       "        1., 1., 1.],\n",
       "       [2., 1., 2., 3., 0., 0., 0., 0., 0., 0., 1., 0., 0., 0., 1., 0.,\n",
       "        0., 0., 0.],\n",
       "       [0., 2., 2., 2., 0., 0., 0., 0., 0., 0., 0., 0., 0., 1., 0., 0.,\n",
       "        0., 1., 1.],\n",
       "       [2., 3., 2., 3., 0., 0., 0., 0., 0., 0., 1., 0., 0., 0., 0., 1.,\n",
       "        0., 0., 0.],\n",
       "       [2., 3., 2., 1., 0., 0., 1., 0., 0., 0., 0., 0., 0., 0., 0., 0.,\n",
       "        0., 1., 0.]])"
      ]
     },
     "execution_count": 11,
     "metadata": {},
     "output_type": "execute_result"
    }
   ],
   "source": [
    "X_transformed[0:7]"
   ]
  },
  {
   "cell_type": "code",
   "execution_count": 17,
   "id": "2f03e59f-8dbc-4472-a7c1-69c33d92367f",
   "metadata": {},
   "outputs": [],
   "source": [
    "X_train,X_test,y_train,y_test=train_test_split(X_transformed,y,test_size=0.3,random_state=42)"
   ]
  },
  {
   "cell_type": "code",
   "execution_count": 18,
   "id": "63a7a8f4-5cdd-44aa-8b97-cc75c216616a",
   "metadata": {},
   "outputs": [],
   "source": [
    "# Function to train, evaluate, and save models\n",
    "def train_evaluate_save(model, model_name):\n",
    "    # Train the model\n",
    "    model.fit(X_train, y_train)\n",
    "    \n",
    "    # Make predictions\n",
    "    y_pred = model.predict(X_test)\n",
    "    \n",
    "    # Print evaluation metrics\n",
    "    print(f\"Results for {model_name}:\")\n",
    "    print(f\"Accuracy: {accuracy_score(y_test, y_pred):.7f}\")\n",
    "    print(\"Classification Report:\")\n",
    "    print(classification_report(y_test, y_pred))\n",
    "    \n",
    "   "
   ]
  },
  {
   "cell_type": "code",
   "execution_count": 19,
   "id": "312518e6-563a-420e-be41-7cb0873ad60b",
   "metadata": {},
   "outputs": [
    {
     "name": "stdout",
     "output_type": "stream",
     "text": [
      "Results for decision_tree:\n",
      "Accuracy: 1.0000\n",
      "Classification Report:\n",
      "              precision    recall  f1-score   support\n",
      "\n",
      "           0       1.00      1.00      1.00       204\n",
      "           1       1.00      1.00      1.00        96\n",
      "\n",
      "    accuracy                           1.00       300\n",
      "   macro avg       1.00      1.00      1.00       300\n",
      "weighted avg       1.00      1.00      1.00       300\n",
      "\n"
     ]
    }
   ],
   "source": [
    "# Decision Tree\n",
    "decision_tree = DecisionTreeClassifier(random_state=42)\n",
    "train_evaluate_save(decision_tree, \"decision_tree\")"
   ]
  },
  {
   "cell_type": "code",
   "execution_count": 20,
   "id": "290dd985-cba8-459b-935f-b534fb6cb569",
   "metadata": {},
   "outputs": [
    {
     "name": "stdout",
     "output_type": "stream",
     "text": [
      "Results for Random_Forest:\n",
      "Accuracy: 0.9967\n",
      "Classification Report:\n",
      "              precision    recall  f1-score   support\n",
      "\n",
      "           0       1.00      1.00      1.00       204\n",
      "           1       1.00      0.99      0.99        96\n",
      "\n",
      "    accuracy                           1.00       300\n",
      "   macro avg       1.00      0.99      1.00       300\n",
      "weighted avg       1.00      1.00      1.00       300\n",
      "\n",
      "Results for Logistic_Regression:\n",
      "Accuracy: 0.9367\n",
      "Classification Report:\n",
      "              precision    recall  f1-score   support\n",
      "\n",
      "           0       0.97      0.94      0.95       204\n",
      "           1       0.87      0.94      0.90        96\n",
      "\n",
      "    accuracy                           0.94       300\n",
      "   macro avg       0.92      0.94      0.93       300\n",
      "weighted avg       0.94      0.94      0.94       300\n",
      "\n"
     ]
    }
   ],
   "source": [
    "# Random Forest\n",
    "random_forest = RandomForestClassifier(random_state=42)\n",
    "train_evaluate_save(random_forest, \"Random_Forest\")\n",
    "\n",
    "# Logistic Regression\n",
    "logistic_regression = LogisticRegression(random_state=42, max_iter=1000)\n",
    "train_evaluate_save(logistic_regression, \"Logistic_Regression\")"
   ]
  },
  {
   "cell_type": "code",
   "execution_count": 16,
   "id": "430769f6-cb74-4b0a-9521-32f3b7fbe5a0",
   "metadata": {},
   "outputs": [
    {
     "ename": "IndentationError",
     "evalue": "unexpected indent (929530622.py, line 2)",
     "output_type": "error",
     "traceback": [
      "\u001b[1;36m  Cell \u001b[1;32mIn[16], line 2\u001b[1;36m\u001b[0m\n\u001b[1;33m    model_filename = f'{model_name}_model.pkl'\u001b[0m\n\u001b[1;37m    ^\u001b[0m\n\u001b[1;31mIndentationError\u001b[0m\u001b[1;31m:\u001b[0m unexpected indent\n"
     ]
    }
   ],
   "source": [
    " # Save the trained model as a pickle file\n",
    "    model_filename = f'{model_name}_model.pkl'\n",
    "    with open(model_filename, 'wb') as file:\n",
    "        pickle.dump(model, file)\n",
    "    print(f\"{model_name} saved as {model_filename}\\n\")"
   ]
  }
 ],
 "metadata": {
  "kernelspec": {
   "display_name": "Python 3 (ipykernel)",
   "language": "python",
   "name": "python3"
  },
  "language_info": {
   "codemirror_mode": {
    "name": "ipython",
    "version": 3
   },
   "file_extension": ".py",
   "mimetype": "text/x-python",
   "name": "python",
   "nbconvert_exporter": "python",
   "pygments_lexer": "ipython3",
   "version": "3.12.5"
  }
 },
 "nbformat": 4,
 "nbformat_minor": 5
}
